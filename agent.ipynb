{
 "cells": [
  {
   "cell_type": "code",
   "execution_count": 6,
   "metadata": {},
   "outputs": [],
   "source": [
    "# Import relevant functionality\n",
    "from langchain_google_genai import GoogleGenerativeAI  \n",
    "from langchain_openai import ChatOpenAI\n",
    "from langchain_community.tools.tavily_search import TavilySearchResults\n",
    "from langchain_core.messages import HumanMessage\n",
    "from langgraph.checkpoint.memory import MemorySaver\n",
    "from langgraph.prebuilt import create_react_agent\n",
    "import os\n",
    "import dotenv\n",
    "\n",
    "dotenv.load_dotenv()\n",
    "\n",
    "# Create the agent\n",
    "memory = MemorySaver()\n",
    "model = ChatOpenAI(model=\"gpt-4o-mini\")\n",
    "# model = GoogleGenerativeAI(\n",
    "#     model=\"gemini-2.5-flash-preview-04-17\",\n",
    "#     # thinking_config={\"thinking_mode\": \"adaptive\", \"max_thinking_tokens\": 1000}\n",
    "# )\n",
    "search = TavilySearchResults(max_results=2)\n",
    "tools = [search]\n",
    "agent_executor = create_react_agent(model, tools, checkpointer=memory)"
   ]
  },
  {
   "cell_type": "code",
   "execution_count": 7,
   "metadata": {},
   "outputs": [
    {
     "name": "stdout",
     "output_type": "stream",
     "text": [
      "================================\u001b[1m Human Message \u001b[0m=================================\n",
      "\n",
      "hi im bob! and i live in Seoul Korea\n",
      "==================================\u001b[1m Ai Message \u001b[0m==================================\n",
      "\n",
      "Hi Bob! It's great to meet you. How's life in Seoul? Is there anything specific you'd like to talk about or any questions you have?\n"
     ]
    }
   ],
   "source": [
    "# Use the agent\n",
    "config = {\"configurable\": {\"thread_id\": \"abc123\"}}\n",
    "for step in agent_executor.stream(\n",
    "    {\"messages\": [HumanMessage(content=\"hi im bob! and i live in Seoul Korea\")]},\n",
    "    config,\n",
    "    stream_mode=\"values\",\n",
    "):\n",
    "    step[\"messages\"][-1].pretty_print()"
   ]
  },
  {
   "cell_type": "code",
   "execution_count": 8,
   "metadata": {},
   "outputs": [
    {
     "name": "stdout",
     "output_type": "stream",
     "text": [
      "================================\u001b[1m Human Message \u001b[0m=================================\n",
      "\n",
      "whats the weather where I live?\n",
      "==================================\u001b[1m Ai Message \u001b[0m==================================\n",
      "Tool Calls:\n",
      "  tavily_search_results_json (call_IFzc5UHQoqNXc3F9h6aNVkMQ)\n",
      " Call ID: call_IFzc5UHQoqNXc3F9h6aNVkMQ\n",
      "  Args:\n",
      "    query: current weather in Seoul, Korea\n",
      "=================================\u001b[1m Tool Message \u001b[0m=================================\n",
      "Name: tavily_search_results_json\n",
      "\n",
      "[{\"title\": \"Weather in Seoul, South Korea\", \"url\": \"https://www.weatherapi.com/\", \"content\": \"{'location': {'name': 'Seoul', 'region': '', 'country': 'South Korea', 'lat': 37.5664, 'lon': 126.9997, 'tz_id': 'Asia/Seoul', 'localtime_epoch': 1745160269, 'localtime': '2025-04-20 23:44'}, 'current': {'last_updated_epoch': 1745159400, 'last_updated': '2025-04-20 23:30', 'temp_c': 15.4, 'temp_f': 59.7, 'is_day': 0, 'condition': {'text': 'Clear', 'icon': '//cdn.weatherapi.com/weather/64x64/night/113.png', 'code': 1000}, 'wind_mph': 2.2, 'wind_kph': 3.6, 'wind_degree': 92, 'wind_dir': 'E', 'pressure_mb': 1015.0, 'pressure_in': 29.98, 'precip_mm': 0.0, 'precip_in': 0.0, 'humidity': 72, 'cloud': 0, 'feelslike_c': 15.4, 'feelslike_f': 59.7, 'windchill_c': 17.4, 'windchill_f': 63.3, 'heatindex_c': 17.4, 'heatindex_f': 63.3, 'dewpoint_c': 4.7, 'dewpoint_f': 40.5, 'vis_km': 10.0, 'vis_miles': 6.0, 'uv': 0.0, 'gust_mph': 3.9, 'gust_kph': 6.3}}\", \"score\": 0.9215639}, {\"title\": \"Weather for Seoul, South Korea - Time and Date\", \"url\": \"https://www.timeanddate.com/weather/south-korea/seoul\", \"content\": \"Weather in Seoul, South Korea ; Apr 20, 2025 at 7:00 pm · 10 mi · 29.92 \\\"Hg · 68% · 54 °F\", \"score\": 0.90869105}]\n",
      "==================================\u001b[1m Ai Message \u001b[0m==================================\n",
      "\n",
      "The current weather in Seoul, South Korea is as follows:\n",
      "\n",
      "- **Temperature**: 15.4°C (59.7°F)\n",
      "- **Condition**: Clear\n",
      "- **Wind**: 2.2 mph (3.6 kph) from the East\n",
      "- **Humidity**: 72%\n",
      "- **Visibility**: 10 km\n",
      "\n",
      "You can check more details on [Weather API](https://www.weatherapi.com/) or [Time and Date](https://www.timeanddate.com/weather/south-korea/seoul). \n",
      "\n",
      "Is there anything else you'd like to know?\n"
     ]
    }
   ],
   "source": [
    "for step in agent_executor.stream(\n",
    "    {\"messages\": [HumanMessage(content=\"whats the weather where I live?\")]},\n",
    "    config,\n",
    "    stream_mode=\"values\",\n",
    "):\n",
    "    step[\"messages\"][-1].pretty_print()"
   ]
  }
 ],
 "metadata": {
  "kernelspec": {
   "display_name": ".venv",
   "language": "python",
   "name": "python3"
  },
  "language_info": {
   "codemirror_mode": {
    "name": "ipython",
    "version": 3
   },
   "file_extension": ".py",
   "mimetype": "text/x-python",
   "name": "python",
   "nbconvert_exporter": "python",
   "pygments_lexer": "ipython3",
   "version": "3.12.6"
  }
 },
 "nbformat": 4,
 "nbformat_minor": 2
}
