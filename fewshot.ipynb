{
 "cells": [
  {
   "cell_type": "code",
   "execution_count": 13,
   "metadata": {},
   "outputs": [],
   "source": [
    "from langchain_openai import ChatOpenAI\n",
    "\n",
    "model = ChatOpenAI(model=\"gpt-4o-mini\", temperature=0.0)\n",
    "\n",
    "# model.invoke(\"Avatar's director, starring, budget, revenue, genre, short summary\")"
   ]
  },
  {
   "cell_type": "code",
   "execution_count": 14,
   "metadata": {},
   "outputs": [],
   "source": [
    "from langchain_core.prompts import ChatPromptTemplate, FewShotChatMessagePromptTemplate\n",
    "# 감독, 주요 출연진, 예산, 흥행 수익, 장르, 간략한 줄거리\n",
    "examples = [\n",
    "    {\"input\": \"Matrix\", \"output\": \"{'Director': 'Wachowski', 'Starring': 'Keanu Reeves', 'Budget': '63 million', 'Revenue': '463 million', 'Genre': 'Action, Sci-Fi', 'Summary': 'A computer hacker learns about the true nature of his reality and his role in the war against its controllers.'}\"},\n",
    "    {\"input\": \"Avatar\", \"output\": \"{'Director': 'James Cameron', 'Starring': 'Sam Worthington, Zoe Saldana, Sigourney Weaver', 'Budget': '237 million', 'Revenue': '2.79 billion', 'Genre': 'Action, Adventure, Fantasy', 'Summary': 'A paraplegic marine dispatched to the moon Pandora on a unique mission becomes torn between following his orders and protecting the world he feels is his home.'}\"},\n",
    "]"
   ]
  },
  {
   "cell_type": "code",
   "execution_count": 15,
   "metadata": {},
   "outputs": [
    {
     "name": "stdout",
     "output_type": "stream",
     "text": [
      "[HumanMessage(content='Matrix', additional_kwargs={}, response_metadata={}), AIMessage(content=\"{'Director': 'Wachowski', 'Starring': 'Keanu Reeves', 'Budget': '63 million', 'Revenue': '463 million', 'Genre': 'Action, Sci-Fi', 'Summary': 'A computer hacker learns about the true nature of his reality and his role in the war against its controllers.'}\", additional_kwargs={}, response_metadata={}), HumanMessage(content='Avatar', additional_kwargs={}, response_metadata={}), AIMessage(content=\"{'Director': 'James Cameron', 'Starring': 'Sam Worthington, Zoe Saldana, Sigourney Weaver', 'Budget': '237 million', 'Revenue': '2.79 billion', 'Genre': 'Action, Adventure, Fantasy', 'Summary': 'A paraplegic marine dispatched to the moon Pandora on a unique mission becomes torn between following his orders and protecting the world he feels is his home.'}\", additional_kwargs={}, response_metadata={})]\n"
     ]
    }
   ],
   "source": [
    "# This is a prompt template used to format each individual example.\n",
    "example_prompt = ChatPromptTemplate.from_messages(\n",
    "    [\n",
    "        (\"human\", \"{input}\"),\n",
    "        (\"ai\", \"{output}\"),\n",
    "    ]\n",
    ")\n",
    "few_shot_prompt = FewShotChatMessagePromptTemplate(\n",
    "    example_prompt=example_prompt,\n",
    "    examples=examples,\n",
    ")\n",
    "\n",
    "print(few_shot_prompt.invoke({}).to_messages())"
   ]
  },
  {
   "cell_type": "code",
   "execution_count": 16,
   "metadata": {},
   "outputs": [],
   "source": [
    "final_prompt = ChatPromptTemplate.from_messages(\n",
    "    [\n",
    "        (\"system\", \"Give me the information about the movie. in structured format.\"),\n",
    "        few_shot_prompt,\n",
    "        (\"human\", \"{input}\"),\n",
    "    ]\n",
    ")"
   ]
  },
  {
   "cell_type": "code",
   "execution_count": 17,
   "metadata": {},
   "outputs": [
    {
     "data": {
      "text/plain": [
       "Movie(director='Baz Luhrmann', starring='Leonardo DiCaprio, Carey Mulligan, Tobey Maguire', budget='105 million', revenue='353.6 million', genre='Drama, Romance', summary='A Midwestern war veteran finds himself drawn to the past and lifestyle of his millionaire neighbor.')"
      ]
     },
     "execution_count": 17,
     "metadata": {},
     "output_type": "execute_result"
    }
   ],
   "source": [
    "from langchain_openai import ChatOpenAI\n",
    "\n",
    "\n",
    "chain = final_prompt | model\n",
    "\n",
    "from pydantic import BaseModel\n",
    "\n",
    "class Movie(BaseModel):\n",
    "    \"\"\"Always use this tool to structure your response to the user.\"\"\"\n",
    "    director: str\n",
    "    starring: str\n",
    "    budget: str\n",
    "    revenue: str\n",
    "    genre: str\n",
    "    summary: str\n",
    "\n",
    "model_with_structured_output = model.with_structured_output(Movie)\n",
    "\n",
    "structured_chain = final_prompt | model_with_structured_output\n",
    "\n",
    "structured_chain.invoke({\"input\": \"Gatsby\"})"
   ]
  }
 ],
 "metadata": {
  "kernelspec": {
   "display_name": ".venv",
   "language": "python",
   "name": "python3"
  },
  "language_info": {
   "codemirror_mode": {
    "name": "ipython",
    "version": 3
   },
   "file_extension": ".py",
   "mimetype": "text/x-python",
   "name": "python",
   "nbconvert_exporter": "python",
   "pygments_lexer": "ipython3",
   "version": "3.12.6"
  }
 },
 "nbformat": 4,
 "nbformat_minor": 2
}
