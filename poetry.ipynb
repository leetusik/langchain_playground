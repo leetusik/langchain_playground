{
 "cells": [
  {
   "cell_type": "code",
   "execution_count": 79,
   "metadata": {},
   "outputs": [],
   "source": [
    "from langchain_openai import ChatOpenAI\n",
    "\n",
    "\n",
    "model = ChatOpenAI(model=\"gpt-4o-mini\", temperature=0)"
   ]
  },
  {
   "cell_type": "code",
   "execution_count": 80,
   "metadata": {},
   "outputs": [],
   "source": [
    "from langchain_core.prompts import ChatPromptTemplate\n",
    "\n",
    "poetry_prompt = ChatPromptTemplate.from_messages([\n",
    "    (\"system\", \"\"\"\n",
    "     You are a helpful assistant that generates poetry. If User gives you a programming language name like python, you write a poem about it. If User gives you a not related to programming language, You Just say \"It's not related to programming language\".\n",
    "     \"\"\"),\n",
    "    (\"user\", \"Generate a poem about {language}.\"),\n",
    "])\n",
    "\n",
    "poetry_chain = poetry_prompt | model\n"
   ]
  },
  {
   "cell_type": "code",
   "execution_count": 81,
   "metadata": {},
   "outputs": [],
   "source": [
    "# poetry_chain.invoke(\"language\": \"python\"})"
   ]
  },
  {
   "cell_type": "code",
   "execution_count": 82,
   "metadata": {},
   "outputs": [],
   "source": [
    "explain_prompt = ChatPromptTemplate.from_messages([\n",
    "    (\"system\", \"\"\"\n",
    "     You are a helpful assistant that explains poetry.\n",
    "     \"\"\"),\n",
    "    (\"user\", \"Explain the poetry. poetry: {poetry}\"),\n",
    "])\n",
    "\n",
    "explain_chain = explain_prompt | model"
   ]
  },
  {
   "cell_type": "code",
   "execution_count": 83,
   "metadata": {},
   "outputs": [],
   "source": [
    "# explain_chain.invoke({\"poetry\": \"In the realm of code, where logic flows,  \\nA serpent slithers, as knowledge grows.  \\nWith elegance wrapped in simplicity's guise,  \\nPython emerges, a programmer's prize.  \\n\\nIndentations dance, like a waltz in the night,  \\nEach line a whisper, each function a light.  \\nFrom data analysis to web's vast expanse,  \\nIn Python's embrace, we find our chance.  \\n\\nLibraries flourish, like flowers in spring,  \\nNumPy and Pandas, oh, the joy they bring!  \\nWith Django and Flask, the web comes alive,  \\nIn this vibrant ecosystem, our ideas thrive.  \\n\\nObject-oriented, yet functional too,  \\nA language so versatile, it welcomes the new.  \\nFrom scripts that automate to games that delight,  \\nPython, dear Python, you shine ever bright.  \\n\\nSo here's to the code, both simple and grand,  \\nTo the community thriving, a united band.  \\nIn the world of programming, you hold the key,  \\nOh Python, sweet Python, forever you'll be!  \"})"
   ]
  },
  {
   "cell_type": "code",
   "execution_count": 84,
   "metadata": {},
   "outputs": [
    {
     "data": {
      "image/png": "[encoded data removed]",
      "text/plain": [
       "<IPython.core.display.Image object>"
      ]
     },
     "metadata": {},
     "output_type": "display_data"
    }
   ],
   "source": [
    "from typing_extensions import TypedDict\n",
    "from langgraph.graph import START, StateGraph, END\n",
    "\n",
    "class State(TypedDict):\n",
    "    language: str\n",
    "    poetry: str\n",
    "    explanation: str\n",
    "\n",
    "def create_poetry(state: State):\n",
    "    poetry = poetry_chain.invoke({\"language\": state[\"language\"]})\n",
    "    return {\"poetry\": poetry.content}\n",
    "\n",
    "def explain_poetry(state: State):\n",
    "    explanation = explain_chain.invoke({\"poetry\": state[\"poetry\"]})\n",
    "    return {\"explanation\": explanation.content}\n",
    "\n",
    "def structured_output(state: State):\n",
    "    return {\"poetry\": state[\"poetry\"], \"explanation\": state[\"explanation\"]}\n",
    "\n",
    "graph_builder = StateGraph(State)\n",
    "\n",
    "graph_builder.add_node(create_poetry)\n",
    "graph_builder.add_node(explain_poetry)\n",
    "graph_builder.add_node(structured_output)\n",
    "\n",
    "graph_builder.set_entry_point(\"create_poetry\")\n",
    "graph_builder.add_edge(\"create_poetry\", \"explain_poetry\")\n",
    "graph_builder.add_edge(\"explain_poetry\", \"structured_output\")\n",
    "graph_builder.add_edge(\"structured_output\", END)\n",
    "\n",
    "graph = graph_builder.compile()\n",
    "\n",
    "from IPython.display import Image, display\n",
    "\n",
    "display(Image(graph.get_graph().draw_mermaid_png()))"
   ]
  },
  {
   "cell_type": "code",
   "execution_count": 85,
   "metadata": {},
   "outputs": [
    {
     "data": {
      "text/plain": [
       "{'language': 'javascript',\n",
       " 'poetry': \"In the realm of the web, where the magic unfolds,  \\nJavaScript dances, its story retold.  \\nWith curly braces and functions so bright,  \\nIt brings life to the pages, igniting the light.  \\n\\nFrom simple alerts to complex arrays,  \\nIt weaves through the code in a myriad of ways.  \\nWith each line of logic, it breathes and it grows,  \\nCreating the wonders that every user knows.  \\n\\nAsynchronous whispers, promises made,  \\nIn the heart of the browser, its power displayed.  \\nWith frameworks like React and Angular's might,  \\nIt shapes user journeys, both day and night.  \\n\\nSo here's to the language that runs in our veins,  \\nWith every keystroke, it breaks all the chains.  \\nJavaScript, oh JavaScript, forever you'll reign,  \\nIn the world of the web, your legacy remains.\",\n",
       " 'explanation': 'This poem celebrates the programming language JavaScript and its vital role in web development. Let\\'s break it down stanza by stanza:\\n\\n### Stanza 1:\\n**\"In the realm of the web, where the magic unfolds,  \\nJavaScript dances, its story retold.  \\nWith curly braces and functions so bright,  \\nIt brings life to the pages, igniting the light.\"**\\n\\n- **\"In the realm of the web\"**: This sets the scene in the digital world of the internet.\\n- **\"where the magic unfolds\"**: Refers to the transformative and creative power of coding.\\n- **\"JavaScript dances\"**: Personifies JavaScript, suggesting it is dynamic and lively.\\n- **\"curly braces and functions\"**: These are specific elements of JavaScript syntax, indicating the technical nature of the language.\\n- **\"brings life to the pages\"**: Highlights how JavaScript makes web pages interactive and engaging.\\n\\n### Stanza 2:\\n**\"From simple alerts to complex arrays,  \\nIt weaves through the code in a myriad of ways.  \\nWith each line of logic, it breathes and it grows,  \\nCreating the wonders that every user knows.\"**\\n\\n- **\"From simple alerts to complex arrays\"**: Illustrates the range of capabilities in JavaScript, from basic functions (like alerts) to more complex data structures (arrays).\\n- **\"weaves through the code\"**: Suggests that JavaScript integrates seamlessly with other code.\\n- **\"breathes and it grows\"**: Implies that JavaScript is evolving and adapting, much like living things.\\n- **\"wonders that every user knows\"**: Refers to the interactive features and functionalities that users experience on websites.\\n\\n### Stanza 3:\\n**\"Asynchronous whispers, promises made,  \\nIn the heart of the browser, its power displayed.  \\nWith frameworks like React and Angular\\'s might,  \\nIt shapes user journeys, both day and night.\"**\\n\\n- **\"Asynchronous whispers\"**: Refers to JavaScript\\'s ability to handle asynchronous operations, allowing for non-blocking code execution.\\n- **\"promises made\"**: This is a programming concept in JavaScript that deals with handling asynchronous operations.\\n- **\"heart of the browser\"**: Indicates that JavaScript is essential for web browsers, enabling dynamic content.\\n- **\"frameworks like React and Angular\\'s might\"**: Mentions popular JavaScript frameworks that enhance development and user experience.\\n- **\"shapes user journeys\"**: Suggests that JavaScript plays a crucial role in guiding users through their interactions on websites.\\n\\n### Stanza 4:\\n**\"So here\\'s to the language that runs in our veins,  \\nWith every keystroke, it breaks all the chains.  \\nJavaScript, oh JavaScript, forever you\\'ll reign,  \\nIn the world of the web, your legacy remains.\"**\\n\\n- **\"language that runs in our veins\"**: Implies that JavaScript is fundamental to modern web development, almost like a vital part of the digital ecosystem.\\n- **\"breaks all the chains\"**: Suggests that JavaScript empowers developers to create without limitations.\\n- **\"forever you\\'ll reign\"**: Indicates a strong belief in the enduring importance of JavaScript in web development.\\n- **\"your legacy remains\"**: Acknowledges the lasting impact JavaScript has had on the web and technology as a whole.\\n\\n### Overall Theme:\\nThe poem is an ode to JavaScript, celebrating its versatility, power, and essential role in creating interactive web experiences. It captures the beauty of coding and the transformative nature of technology in our lives.'}"
      ]
     },
     "execution_count": 85,
     "metadata": {},
     "output_type": "execute_result"
    }
   ],
   "source": [
    "input_language = \"javascript\"\n",
    "\n",
    "graph.invoke({\"language\": input_language})"
   ]
  }
 ],
 "metadata": {
  "kernelspec": {
   "display_name": ".venv",
   "language": "python",
   "name": "python3"
  },
  "language_info": {
   "codemirror_mode": {
    "name": "ipython",
    "version": 3
   },
   "file_extension": ".py",
   "mimetype": "text/x-python",
   "name": "python",
   "nbconvert_exporter": "python",
   "pygments_lexer": "ipython3",
   "version": "3.12.6"
  }
 },
 "nbformat": 4,
 "nbformat_minor": 2
}
